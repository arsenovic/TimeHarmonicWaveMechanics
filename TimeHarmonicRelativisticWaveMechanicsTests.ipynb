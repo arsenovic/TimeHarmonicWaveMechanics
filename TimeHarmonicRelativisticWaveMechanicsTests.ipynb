{
 "cells": [
  {
   "cell_type": "markdown",
   "id": "d3e0a166-72c1-400b-a78f-c802fe35cbc3",
   "metadata": {},
   "source": [
    "* make this objectified"
   ]
  },
  {
   "cell_type": "code",
   "execution_count": null,
   "id": "1f5dc408-c6ea-4e04-bfa8-5345be2ee8f5",
   "metadata": {},
   "outputs": [],
   "source": [
    "from clifford.sta import * \n",
    "from pylab import * \n",
    "\n",
    "if True:\n",
    "    \n",
    "    thres= 1e-10\n",
    "    is_close= lambda x,y:abs(x-y)<thres\n",
    "    is_close_ish= lambda x,y:abs(x-y)<thres*1e4\n",
    "    split = lambda a,B: (a|B)/(a^B)\n",
    "    split_apart = lambda a,B: ((a|B)/B, (a^B)/B)\n",
    "    nudge = lambda a: a+1e-5 if a == 0 else a\n",
    "    \n",
    "    # constants not defined by model\n",
    "    m = rand()                   \n",
    "    q = rand()\n",
    "    hbar = rand()\n",
    "    \n",
    "    # basis elements in standard frame\n",
    "    S = d12\n",
    "    i = d123 \n",
    "    I = d0123\n",
    "    dk=k = (i*S)# +.01*d1\n",
    "    k=k/abs(k)\n",
    "    \n",
    "    C = I*S\n",
    "    pis = pi*S  # == \\pi_S\n",
    "    \n",
    "    \n",
    "    ## note: since we dont have a nice way to write the dot notation \n",
    "    # we have set the differential (rdot) as rd ,  \n",
    "    #rd = d0 + .2*d1 + .84*d2 + .3*d3 # known differential\n",
    "    rd = D.randomV()            # random differential.\n",
    "    rd = rd(i) + abs(rd(i))*d0  # put it on the light cone\n",
    "    \n",
    "    \n",
    "    # differential components\n",
    "    rd0,rdk,rds = rd(d0),rd(k),rd(S)\n",
    "    rdsnot = rd-rds\n",
    "    rd0not = rd-rd0\n",
    "    \n",
    "    # velocity\n",
    "    Vs,Vk = rds/rd0 ,rdk/rd0\n",
    "    V = Vs + Vk\n",
    "    T = Vk/Vs\n",
    "    c= 1#abs(V)\n",
    "    \n",
    "    # linear momentum \n",
    "    ls,lk  = m*Vs,m*Vk  \n",
    "    l = ls+lk\n",
    "\n",
    "    # this is compton wavelength *1/gamma^2\n",
    "    rs = hbar/m*abs(Vs)* rds|S/abs(rds|S)  # position vector in S \n",
    "    \n",
    "    \n",
    "    # frequencies, angular momenta\n",
    "    theta = (rds/rs)\n",
    "    W = (rds/rs)/rd0\n",
    "    K = (rds/rdk)/rs\n",
    "    P = W + K\n",
    "    p,ps,pk = m*V,m*Vs, m*Vk\n",
    "    L = m*rs^Vs\n",
    "    E = m*V**2\n",
    "\n",
    "    pis = pi*S\n",
    "    # wavelengths\n",
    "    lam   = -2*pi*S*V/W\n",
    "    lam_s = -2*pi*S*Vs/W\n",
    "    lam_k = -2*pi*S*Vk/W\n",
    "    \n",
    "    # currents\n",
    "    J  = q*V/lam\n",
    "    Js = q*Vs/lam_s\n",
    "    Jk = q*Vk/lam_k\n",
    "    \n",
    "    # lorentz factor and helix space pitch \n",
    "    Gamma = V*Vs.inv()         # spinor form \n",
    "    gamma = abs(Gamma)   # lorentz factor\n",
    "    phi = arctan(abs(Vk)/abs(Vs))\n",
    "    Le = gamma**2 *L\n",
    "    \n",
    "    # electrodynamics\n",
    "    M = Js*pis*rs**2\n",
    "    B = m/q*W\n",
    "    mu_ring = 4*pis*m*rs/q**2\n",
    "    Phi= B*pis*rs**2\n",
    "\n",
    "if True:\n",
    "    ################ TESTS ############################\n",
    "    \n",
    "    # Velocity and Differentials\n",
    "    assert(rd == rd0+rdk+rds == rds+rdsnot)\n",
    "    assert(-theta/(rd0*rdk)*(rd0+rdk) == P)      # P-r relation\n",
    "    assert(  -rs*P == (rds*rdsnot)/(rd0*rdk))    # P-r relation\n",
    "    assert(  Vs+Vk == rd0not/rd0)\n",
    "    \n",
    "    # Angular Momentum\n",
    "    assert(L == ps^rs == -m*rs**2*W == -m*Vs**2/W)\n",
    "    assert(isclose(abs(rs),abs(L/(m*Vs)))) # \n",
    "    assert(  rs**2 == - L/W/m)             # radius, as f(L,W,m)\n",
    "    assert(T==Vk/Vs == rdk/rds== 1/(K*rs))\n",
    "    assert(isclose(abs(T),tan(phi)))\n",
    "    assert(Gamma==1+T)\n",
    "     \n",
    "    # Wavelengths\n",
    "    assert(  lam == 2*pi*S*(rs+1/K)==-2*pis*V/W)    # lamda = krds one  \n",
    "    assert(lam_s == 2*pi*S*rs== 2*pis*L/ps==-2*pis*Vs/W) # deBroglie\n",
    "    assert(lam_k == 2*pi*S*(1/K)==-2*pis*Vk/W)\n",
    "    assert(isclose(abs(lam)**2 ,abs(lam_s)**2 +abs(lam_k)**2))\n",
    "    assert(lam==lam_s+lam_k)\n",
    "    \n",
    "    \n",
    "    # Currents \n",
    "    assert(Js == -Jk ==-q*W/(2*pis))\n",
    "    assert(isclose(abs(J),abs(Js)))\n",
    "    assert(isclose(abs(J),abs(Jk)))\n",
    "    assert(J==-q*W/(2*pis)*((1+T)/(1-T)))\n",
    "    assert(J==-q*W/(2*pis)*V/(-k*V*k))\n",
    "    assert(tan(phi)*(Vk/Vs)(2).normal() ==Vk/Vs)\n",
    "    \n",
    "    \n",
    "    # Lorentz factor \n",
    "    assert(V**2 == Vs**2 +Vk**2)\n",
    "    assert(Gamma==V*Vs.inv() == 1/(1-Vk*V.inv()))\n",
    "    assert(is_close(gamma,1/sqrt(1-abs(Vk**2/V**2))))\n",
    "    assert(is_close(gamma,1/cos(phi)))\n",
    "       \n",
    "    # Energy\n",
    "    assert(E == m*V**2 == -L*W + m*Vk**2) # energy momentum\n",
    "    assert(E ==-Le*W==-gamma**2*L*W)  \n",
    "    assert(m*Vs**2 == -L*W )    \n",
    "\n",
    "\n",
    "    # dirac equation \n",
    "    x    = D.randomV()\n",
    "    psi  = e**(P*x)  # not sure about this\n",
    "    dpsi = P*psi     # TODO: this shoudl not be a def, but derived from calc\n",
    "    A    = E/(q*Vk) \n",
    "    \n",
    "    assert(Le == abs(Le)*d012) # interpretation of Le as hbar \n",
    "    assert( dpsi== P*psi == (W+K)*psi == W*(1-1/Vk)*psi == -E/Le*(1-1/Vk)*psi) \n",
    "    assert(Le*dpsi -E/Vk*psi ==-E*psi ) \n",
    "    assert(1/c*Le*dpsi - q/c *E/(q*Vk)*psi == -m*c*psi)\n",
    "    assert(A==E/(q*Vk) == m*V/q *(1+Vs/Vk))\n",
    "    assert(d12*hbar* 1/c *dpsi - d0*q/c*A*psi == -d0*m*c*psi)\n",
    "    #assert(1/c*abs(Le)*d12*i*dpsi*i +q/c*E/(q*abs(Vk)*d3)*i*psi*i == m*c*psi*d0) #fix \n",
    "   # assert(1/c*hbar*d12*i*dpsi*i +q/c*E/(q*abs(Vk)*d3)*i*psi*i == m*c*psi*d0) # fix \n",
    "    assert(-(psi*P)*d12*abs(Le) +E/(abs(Vk)*dk)* (dk*psi/dk) == E*psi*d0)  # solution if dpsi = psi*P \n",
    "    #not used \n",
    "    assert(1/c*Le*dpsi == -1/c*abs(Le)*d12*i*dpsi*i*d0 == d0/c*abs(Le)*d12*dpsi)\n",
    "    #assert(q/c *E/(q*Vk)*psi ==  q/c *E/(q*abs(Vk)*d3)*i*psi*i*d0== -d0*q/c *E/(q*abs(Vk)*d3)*psi )  #second part\n",
    "    \n",
    "    \n",
    "    \n",
    "    ## diracs original formula\n",
    "    dpsidt = W*psi\n",
    "    assert(dpsidt == -E/Le*psi )\n",
    "    assert(-Le*dpsidt == (-1/gamma**2*Le*W + Vk*pk)*psi)\n",
    "   # assert(Vk == -abs(V)*sqrt(1-1/gamma**2)*d3*d0) # dirac original\n",
    "    #assert(-d12*hbar*dpsidt== (d0/gamma**2*m*c**2 + (c*sqrt(1-1/gamma**2))*d3*pk)*psi)\n",
    "if True:\n",
    "    # Magnetic moment \n",
    "    assert(M == -1/2*q*rs**2*W == q/(2*m)*L)\n",
    "    assert(M==2*q/(2*m)*L/2)\n",
    "    assert(L/M== 2*m/q)\n",
    "    \n",
    "    # Permeability\n",
    "    assert(q*Vs*B== -rs*m*W**2)\n",
    "    assert(B == mu_ring*q*W/(4*pis*rs))\n",
    "    assert(mu_ring == 4*pis*m*rs/q**2 ==4/q**2*pis*L/Vs)\n",
    "    \n",
    "    #Flux  quantum \n",
    "    assert(L*W==2*B*M==2*Js*Phi)\n",
    "    assert(Phi ==m/q*W*pis*rs**2==-pis*L/q)\n",
    "    \n",
    "    # Toroid\n",
    "    assert(E==-L*W*(1-T**2) == -L*W*gamma**2)\n",
    "    assert(-2*E/(Js**2*lam_k)==4*pis*m*rs/q**2*(T-1/T))\n",
    "    assert(4*pis*m*rs/q**2*T.inv()==-2*L*W/(Js**2*lam_k))\n",
    "    \n",
    "    \n",
    "    # Unfinished\n",
    "    ## symmetries\n",
    "    assert(-d0*P*d0 == -W + K) # T \n",
    "    assert(-i*P*i   == +W - K) # P?\n",
    "    assert(-I*P*I   == -W - K) # C?\n",
    "    assert(split(P*I,d0)== split(rdsnot,d0))\n",
    "\n",
    "    ## null basis trivectords\n",
    "    d0pkS = .5*(d0+d3)^S \n",
    "    d0mkS = .5*(d0-d3)^S\n",
    "    Pp = (abs(W)+abs(K))*d0pkS  # probably a slicker way to do this\n",
    "    Pm = (abs(W)-abs(K))*d0mkS\n",
    "    #assert(P == Pm+Pp)\n",
    "    \n",
    "\n",
    "\n",
    "if True:\n",
    "    ## curvature and torsion -like quantity  \n",
    "    # these are hard to translate because `rd` is null. \n",
    "    rdd = 2*(S|rd)\n",
    "    rddd = 2*(S|rdd)\n",
    "    tau = rd^rdd^rddd\n",
    "    Ohm = rd^rdd \n",
    "    ## calculus \n",
    "    def da(f,a,tau=1e-9):\n",
    "        # the a-derivative of function 'f()'   in direction of 'a'  chap2 (eq 1.5)\n",
    "        return lambda x:(f(x+tau*a) - f(x))/tau       \n",
    "    \n",
    "    def d(f,grade=1,tau=1e-9):\n",
    "        # the 'grade'-derivative of 'f', returns df(), a function\n",
    "        return lambda x: sum([ 1/a*da(f,a,tau=tau)(x) for a in D.blades_of_grade(grade)]) \n",
    "\n",
    "    \n",
    "    def dfg(f,g,grade=1,tau=1e-9):\n",
    "        # the product rule  \n",
    "        return lambda x: sum([ 1/a* (da(f,a,tau=tau)(x)*g(x) +f(x)*da(g,a,tau=tau)(x)) \n",
    "                              for a in D.blades_of_grade(grade)]) \n",
    "    \n",
    "    def dfofg(f,g,tau=1e-9):\n",
    "        # chain rule\n",
    "        pass\n",
    "        #f(da(g,a,tau=tau)\n",
    "        #return lambda x: sum([ 1/a* da(f(da(g,a,tau=tau)),tau=tau)(x)  for a in [d0,d1,d2,d3]]) \n",
    "    #dfofg(lambda x: e**(P|x),lambda x: x)(x)\n",
    "    \n",
    "    def test_d1():\n",
    "        x = D.randomV()    \n",
    "        B = D.randomMV()(2)\n",
    "        f = lambda x: x|B# skew metric\n",
    "        df = d(f,tau=1e-5)(x).clean(.001) # why does this get worse as tau->0?\n",
    "        assert(is_close(df,2*B))\n",
    "    \n",
    "    def test_d3():\n",
    "        x = D.randomV()    \n",
    "        T = D.randomMV()(3)\n",
    "        f = lambda x: x|T# ?\n",
    "        df = d(f,tau=1e-5)(x).clean(.001) # why does this get worse as tau->0?\n",
    "        assert(is_close(df,3*T))\n",
    "    \n",
    "    def test_d2():\n",
    "        x = D.randomV()    \n",
    "        f = lambda x: x**2 # simple scalar field \n",
    "        df = d(f,tau=1e-8)(x) # why does this get worse as tau->0?\n",
    "        assert(is_close_ish(df, 2*x))\n",
    "    \n",
    "    def test_d4():\n",
    "        x = D.randomV()\n",
    "        B = D.randomMV()(2)\n",
    "        t = D.randomMV()(0) \n",
    "        \n",
    "        f = lambda t: e**(B*t)*x*~(e**(B*t))\n",
    "        assert(is_close_ish(d(f,0)(0).clean(1e-3),(2*B|x)))\n",
    "    \n",
    "    test_d1()\n",
    "    test_d2()\n",
    "    test_d3()\n",
    "    test_d4()\n",
    "    \n",
    "    "
   ]
  },
  {
   "cell_type": "code",
   "execution_count": null,
   "id": "090dc95b-f898-40f9-9613-0d5a8e9cf82f",
   "metadata": {},
   "outputs": [],
   "source": [
    "W|K"
   ]
  },
  {
   "cell_type": "code",
   "execution_count": null,
   "id": "eeb65b97-69d6-4e13-9ad7-4eefdf05b242",
   "metadata": {},
   "outputs": [],
   "source": [
    "W/K, (P*d0 + d0*P)/(P*d0 - d0*P)"
   ]
  },
  {
   "cell_type": "code",
   "execution_count": null,
   "id": "daaf88ab-59d9-4e8f-8a59-e2f1b0eb5ad5",
   "metadata": {},
   "outputs": [],
   "source": [
    "rd0.inv()*rdk, Vk,W/K\n",
    "theta*rd0.inv() * rdk*theta.inv(), Vk"
   ]
  },
  {
   "cell_type": "code",
   "execution_count": null,
   "id": "d209c434-06a4-4756-8bbf-5cffbd210425",
   "metadata": {},
   "outputs": [],
   "source": [
    "W == -theta/rd0, K==-theta/rdk,-rdk*theta.inv(), K.inv()"
   ]
  },
  {
   "cell_type": "code",
   "execution_count": null,
   "id": "cb977bcb-7cb7-4b59-a7c7-5abc5a9b3074",
   "metadata": {},
   "outputs": [],
   "source": [
    " Vs*rs.inv(),W,rds*rd0.inv()*rs.inv()"
   ]
  },
  {
   "cell_type": "code",
   "execution_count": null,
   "id": "3854c1a0-2e3a-4115-b3e6-b4b107039fd7",
   "metadata": {},
   "outputs": [],
   "source": [
    "W*K.inv(), Vk,rdk/rd0"
   ]
  },
  {
   "cell_type": "code",
   "execution_count": null,
   "id": "fa419025-3821-448f-888a-9cb91debf141",
   "metadata": {},
   "outputs": [],
   "source": [
    "theta*rd0.inv()*theta.inv()*rdk.inv(),W,K"
   ]
  },
  {
   "cell_type": "code",
   "execution_count": null,
   "id": "1a69a589-5b99-4081-8963-80b12d01d663",
   "metadata": {},
   "outputs": [],
   "source": [
    "P    = D.randomMV().odd#(3)\n",
    "x    = D.randomV()\n",
    "psi  = e**(P*x)  # not sure about this\n",
    "dpsi = P*psi\n",
    "W,K  = split_apart(P,d0)\n",
    "Vk   = W/K\n",
    "(W+K), W*(1+W.inv()*K)\n",
    "(W/abs(W) )/W, 1/abs(W),W/W\n",
    "d12*K"
   ]
  },
  {
   "cell_type": "code",
   "execution_count": null,
   "id": "6c571b99-9053-49bb-a6a7-10e3fb4240c7",
   "metadata": {},
   "outputs": [],
   "source": [
    "R = e**(.3224*d12)\n",
    "R*rd0.inv()*rdk*R.inv()\n"
   ]
  },
  {
   "cell_type": "code",
   "execution_count": null,
   "id": "6faabbea-4658-42a8-b3b3-7ebdbace3355",
   "metadata": {},
   "outputs": [],
   "source": [
    "\n",
    "-abs(W)**2*(rs-1/K)*~(rs-1/K)"
   ]
  },
  {
   "cell_type": "code",
   "execution_count": null,
   "id": "616c4a0f-0fa8-49af-be6d-de65e5ac9515",
   "metadata": {},
   "outputs": [],
   "source": [
    "olam_k = 2*pi/K \n",
    "olam_s = 2*pi*rs\n",
    "olam = olam_k+olam_s\n",
    "olam"
   ]
  },
  {
   "cell_type": "code",
   "execution_count": null,
   "id": "a167c00d-b2bd-4ab5-9255-0b8e3933cdbe",
   "metadata": {},
   "outputs": [],
   "source": [
    "lam"
   ]
  },
  {
   "cell_type": "code",
   "execution_count": null,
   "id": "4657faff-e85b-4931-9e3f-c6fd0430e4d6",
   "metadata": {},
   "outputs": [],
   "source": [
    "V*d0,d0*V"
   ]
  },
  {
   "cell_type": "code",
   "execution_count": null,
   "id": "1c024ebc-97e2-4f19-aa51-bd3d09fc7f75",
   "metadata": {},
   "outputs": [],
   "source": [
    "q*V/lam, J, -q*V*W*V.inv()/(2*pis), q*W/(2*pis)*V/(dk*V*dk)== "
   ]
  },
  {
   "cell_type": "code",
   "execution_count": null,
   "id": "53128f9b-82a7-4d67-a297-cbf4f98357da",
   "metadata": {},
   "outputs": [],
   "source": [
    "\n",
    "#P*psi ==(W+K)*psi == (1+1/Vk)*W*psib\n",
    "d12*hbar* 1/c *dpsi - d0*q/c*A*psi ,-d0*m*c*psi"
   ]
  },
  {
   "cell_type": "code",
   "execution_count": null,
   "id": "ad35fe21-a0ad-4fa6-ad09-5418ebe38e8d",
   "metadata": {},
   "outputs": [],
   "source": [
    "d0*A,Jk"
   ]
  },
  {
   "cell_type": "code",
   "execution_count": null,
   "id": "7f04076c-6efc-4a1d-9fb0-ed3d863ab761",
   "metadata": {},
   "outputs": [],
   "source": [
    "(1+T)/(1-T),e**T\n",
    "T,1/(K*rs)"
   ]
  },
  {
   "cell_type": "code",
   "execution_count": null,
   "id": "e0839e85-e5ca-4e51-93dc-c4e905c93d41",
   "metadata": {},
   "outputs": [],
   "source": []
  },
  {
   "cell_type": "code",
   "execution_count": null,
   "id": "49bd102d-348e-483a-bf57-45b37a9ee435",
   "metadata": {},
   "outputs": [],
   "source": [
    "\n",
    "    "
   ]
  },
  {
   "cell_type": "code",
   "execution_count": null,
   "id": "39ad995c-112f-441f-88d9-d0aa0197fe14",
   "metadata": {},
   "outputs": [],
   "source": [
    "d12**2"
   ]
  },
  {
   "cell_type": "code",
   "execution_count": null,
   "id": "2ec2d5e9-efbf-4e54-92f2-6e53c23a68b3",
   "metadata": {},
   "outputs": [],
   "source": [
    "split(P,d0)/V"
   ]
  },
  {
   "cell_type": "code",
   "execution_count": null,
   "id": "41252777-d3b2-451c-a551-94ecdd64a767",
   "metadata": {},
   "outputs": [],
   "source": [
    "\n",
    "#Differential properties of curve\n",
    "\n",
    " \n",
    "rdt = lambda t: e**(t*S)*rd*~e**(t*S)\n",
    "\n",
    "is_close_ish(d(rdt,0)(0) , 2*(S|rdt(0)))# drd = 2S\n"
   ]
  },
  {
   "cell_type": "code",
   "execution_count": null,
   "id": "e3a59f5f-289f-4ae8-8f47-fc4d285c1155",
   "metadata": {},
   "outputs": [],
   "source": []
  },
  {
   "cell_type": "code",
   "execution_count": null,
   "id": "9ec64731-f5d1-4d23-a5e2-d7ef8a45c4c4",
   "metadata": {},
   "outputs": [],
   "source": [
    "(d12*(d3+.01*d1+.03*d2).inv())"
   ]
  },
  {
   "cell_type": "code",
   "execution_count": null,
   "id": "268e189e-4bd5-41f4-9471-f8e5347c902c",
   "metadata": {},
   "outputs": [],
   "source": [
    "P1 = D.randomMV().odd\n",
    "P2 = D.randomMV().odd\n",
    "x = D.randomV()\n",
    "e**(P1*x)/e**(P2*x), e**(P1*x -P2*x)"
   ]
  },
  {
   "cell_type": "code",
   "execution_count": null,
   "id": "f6469a1f-5828-4737-a304-d8d6795d84b3",
   "metadata": {},
   "outputs": [],
   "source": [
    "P1.commutator(x)+ P1.anticommutator(x), P1*x"
   ]
  },
  {
   "cell_type": "code",
   "execution_count": null,
   "id": "0e3d5572-5f30-4b45-8551-a25f8c1d4d8a",
   "metadata": {},
   "outputs": [],
   "source": [
    "P1.commutator(x), P1.anticommutator(x)\n"
   ]
  },
  {
   "cell_type": "code",
   "execution_count": null,
   "id": "90ba73cc-04d5-43d8-8738-8908a37d69d2",
   "metadata": {},
   "outputs": [],
   "source": [
    "R = D.randomMV().even\n",
    "split(rd,d0)**2,split((R*rd/R),d0)**2"
   ]
  },
  {
   "cell_type": "code",
   "execution_count": null,
   "id": "031a7963-fea2-4233-97e8-00725115f3d1",
   "metadata": {},
   "outputs": [],
   "source": [
    "rd = D.randomV()            # random differential.\n",
    "rd = rd(i) + abs(rd(i))*d0  # put it on the light cone\n",
    "rdd = 2*(S|rd)\n",
    "\n",
    "assert(rd| rdd==0 )\n",
    "rddd = S|rdd\n",
    "Ohm = rd^rdd\n",
    "Pi = Ohm^rddd\n",
    "\n",
    "rd,rdd,Ohm,Pi\n",
    "split(Ohm,d0), split(rd,d0)\n",
    "Ohm"
   ]
  },
  {
   "cell_type": "code",
   "execution_count": null,
   "id": "d092250b-b540-4146-8c25-e5b3ededdd59",
   "metadata": {},
   "outputs": [],
   "source": [
    "W**2,K**2,Vs**2,Vk**2"
   ]
  },
  {
   "cell_type": "raw",
   "id": "54db5cce-2fcb-4fc3-b285-09d6c154467a",
   "metadata": {},
   "source": [
    "\n",
    "\n",
    "x = D.randomV()    \n",
    "T = D.randomMV().odd\n",
    "f = lambda x: e**(T*x)\n",
    "df = d(f,tau=1e-5)(x).clean(.001)\n",
    "df"
   ]
  },
  {
   "cell_type": "code",
   "execution_count": null,
   "id": "5bac21d5-c77f-432b-8883-4811a8f56971",
   "metadata": {},
   "outputs": [],
   "source": [
    "T"
   ]
  },
  {
   "cell_type": "code",
   "execution_count": null,
   "id": "654e7588-74ae-4cf4-8889-aea03970aff6",
   "metadata": {},
   "outputs": [],
   "source": [
    "from clifford.tools import log_rotor\n",
    "# lorentz invariance \n",
    "x = D.randomV()\n",
    "y = D.randomV()\n",
    "R = e**(log_rotor(x/y)) # need to do sqrt on this . \n",
    "R*x*~R,y"
   ]
  },
  {
   "cell_type": "code",
   "execution_count": null,
   "id": "05a0fd91-b0c2-4749-8bbe-8d99067ffbcd",
   "metadata": {},
   "outputs": [],
   "source": [
    "P_ = R.inv()*P*R\n",
    "e**(P*y) , e**(R*(P_*x)/R)\n"
   ]
  },
  {
   "cell_type": "code",
   "execution_count": null,
   "id": "54407fe5-7d29-4557-bbf3-5048c2c5aa4f",
   "metadata": {},
   "outputs": [],
   "source": [
    "P/d0*P*d0"
   ]
  },
  {
   "cell_type": "code",
   "execution_count": null,
   "id": "d7e57a9b-acc0-4382-983a-686d407dd8bd",
   "metadata": {},
   "outputs": [],
   "source": [
    "\n",
    "E,m*V**2,-Le*W,Le,W"
   ]
  },
  {
   "cell_type": "code",
   "execution_count": null,
   "id": "86acf87a-2687-4d8d-a128-96dc3e0bc3f5",
   "metadata": {},
   "outputs": [],
   "source": [
    "R = e**(rand()*I)\n",
    "(R*P/R)**2"
   ]
  },
  {
   "cell_type": "code",
   "execution_count": null,
   "id": "a6921cf5-dd17-4c0b-b053-7fc697539ad3",
   "metadata": {},
   "outputs": [],
   "source": [
    "psi= lambda x: e**(P*x)\n",
    "P|(D.randomV()(d03))\n",
    "P/I\n",
    "p"
   ]
  },
  {
   "cell_type": "code",
   "execution_count": null,
   "id": "93618cf3-5654-433f-b847-686a098aca24",
   "metadata": {},
   "outputs": [],
   "source": [
    "abs(P)"
   ]
  },
  {
   "cell_type": "code",
   "execution_count": null,
   "id": "81ca5583-be54-4b07-8aea-042884734ef8",
   "metadata": {},
   "outputs": [],
   "source": [
    "R*P/R"
   ]
  },
  {
   "cell_type": "code",
   "execution_count": null,
   "id": "9e7d1538-45e1-4385-b7ae-dd60e2a6f388",
   "metadata": {},
   "outputs": [],
   "source": [
    "\n",
    "R = D.randomRotor()\n",
    "assert(is_close(R*psi/R , e**((R*P/R)|( R*x/R))))\n",
    "psi_ = R*psi/R \n",
    "x_= R*x/R\n",
    "W_ = R*W/R\n",
    "K_ = R*K/R\n",
    "P_= W_+K_\n",
    "Vk_  = W_/K_\n",
    "psi_ , e**(P_|x_)"
   ]
  },
  {
   "cell_type": "code",
   "execution_count": null,
   "id": "3fa4d220-4b7c-49e5-893f-98560ebe4040",
   "metadata": {},
   "outputs": [],
   "source": [
    "Js,Jk,J"
   ]
  },
  {
   "cell_type": "code",
   "execution_count": null,
   "id": "f88123dc-a53d-4233-b4d8-99b0daf55b0b",
   "metadata": {},
   "outputs": [],
   "source": [
    "R=D.randomMV().even\n",
    "#R = e**(rand()*I)\n",
    "split(R*P/R,d0)*d0\n"
   ]
  },
  {
   "cell_type": "code",
   "execution_count": null,
   "id": "9af1fed1-428c-405f-88e5-e45b0eaa2aff",
   "metadata": {},
   "outputs": [],
   "source": [
    "x     = D.randomV()\n",
    "\n",
    "f= lambda x: e**(P^x)\n",
    "abs(d(f)(x)- -P*f(x)) "
   ]
  },
  {
   "cell_type": "code",
   "execution_count": null,
   "id": "56d1594d-d02b-4a79-bdcb-7e67ce5c2a94",
   "metadata": {},
   "outputs": [],
   "source": [
    "f= lambda x: e**(P|x)\n",
    "abs(d(f)(x)- P*f(x))"
   ]
  },
  {
   "cell_type": "code",
   "execution_count": null,
   "id": "07d9cc78-6c15-4a19-a72e-c2fb37cdf38a",
   "metadata": {},
   "outputs": [],
   "source": [
    "f= lambda x: e**(P*x)\n",
    "d(f)(x),P*f(x)"
   ]
  },
  {
   "cell_type": "code",
   "execution_count": null,
   "id": "97b2f59d-17a1-44cc-8928-62a257efa0c4",
   "metadata": {},
   "outputs": [],
   "source": [
    "Vk"
   ]
  },
  {
   "cell_type": "code",
   "execution_count": null,
   "id": "d6df6971-e6be-4408-bf22-5b5f6634d2d6",
   "metadata": {},
   "outputs": [],
   "source": [
    "psi= lambda x: e**(P|x)\n",
    "psi(4*(d3))\n",
    "\n"
   ]
  },
  {
   "cell_type": "code",
   "execution_count": null,
   "id": "8f43166f-c5b9-4458-a44c-2b205e7ec061",
   "metadata": {},
   "outputs": [],
   "source": [
    "x     = D.randomV()\n",
    "kw    = tau=1e-6\n",
    "f     = lambda x: e**(x*P)\n",
    "d(f)(x), (f(x)*P)\n"
   ]
  },
  {
   "cell_type": "code",
   "execution_count": null,
   "id": "fe176e60-b31e-4bca-a63e-43638185a6a5",
   "metadata": {},
   "outputs": [],
   "source": [
    "x = D.randomV()\n",
    "abs(d(lambda x:x)(x)-4)"
   ]
  },
  {
   "cell_type": "code",
   "execution_count": null,
   "id": "af35c5a4-cb7f-4f2f-96ca-bb91e1e64b27",
   "metadata": {},
   "outputs": [],
   "source": [
    "P"
   ]
  },
  {
   "cell_type": "code",
   "execution_count": null,
   "id": "6e9f7d97-b3ac-4e5f-8e53-df7f59f7b735",
   "metadata": {},
   "outputs": [],
   "source": [
    "x = v()\n",
    "f=lambda x: e**(P|x) \n",
    "d(f,1e-5)(x).clean(.001), P*f(x)\n"
   ]
  },
  {
   "cell_type": "code",
   "execution_count": null,
   "id": "47cac209-35f0-406b-87a8-5caa1c11b9d4",
   "metadata": {},
   "outputs": [],
   "source": [
    "f=lambda x: e**(-P^x) \n",
    "d(f,1e-5)(x), P*f(x)"
   ]
  },
  {
   "cell_type": "code",
   "execution_count": null,
   "id": "5b830893-f877-4bd6-aca7-ba1059c0c834",
   "metadata": {},
   "outputs": [],
   "source": [
    "f(x)"
   ]
  },
  {
   "cell_type": "code",
   "execution_count": null,
   "id": "63a4effd-eed8-4c9a-abfc-cb73bbca17e9",
   "metadata": {},
   "outputs": [],
   "source": [
    " \n",
    "v = D.randomV\n",
    "kw    = tau=1e-8\n",
    "\n",
    "psis = dict(psi_o = lambda x: e**(P^x),\n",
    "            psi_i = lambda x: e**(P|x),\n",
    "            psi_g = lambda x: e**(P*x))\n",
    "\n",
    "\n",
    "figure(figsize=(10,4))\n",
    "alphas = np.linspace(.010,20000,300)\n",
    "for k in psis:\n",
    "    psi = psis[k]\n",
    "    dpsi = d(psi, tau=tau)\n",
    "    x= v()\n",
    "    plot(alphas, [abs(dpsi(alpha*x)+(P*psi(alpha*x))) for alpha in alphas],label=k+'+')\n",
    "    plot(alphas, [abs(dpsi(alpha*x)-(P*psi(alpha*x))) for alpha in alphas],label=k+'-')\n",
    "\n",
    "axvline(abs(rs),color='k')\n",
    "legend()\n",
    "tight_layout()\n",
    "semilogy()"
   ]
  },
  {
   "cell_type": "code",
   "execution_count": null,
   "id": "e728b37f-90ad-4312-be28-6a02849e1a6b",
   "metadata": {},
   "outputs": [],
   "source": [
    "p=I*P\n",
    "I.inv()*p == P\n",
    "p^x"
   ]
  },
  {
   "cell_type": "markdown",
   "id": "65443763-8795-4fe8-8bab-703425354ce0",
   "metadata": {},
   "source": [
    "\n",
    "### Stability of Dervative arou\n",
    "nd small `x` "
   ]
  },
  {
   "cell_type": "code",
   "execution_count": null,
   "id": "26605a20-e2b8-45cf-973f-c9b9ff0d3555",
   "metadata": {},
   "outputs": [],
   "source": [
    "def dank(alpha):\n",
    "    x = D.randomV()*alpha\n",
    "    f = lambda x:e**(P*x)\n",
    "    df= d(f=f,x=x,tau=1e-5).clean(1e-4)\n",
    "    return abs(df -P*f(x)) \n",
    "alphas = np.linspace(0,20,200)\n",
    "figure(figsize=(10,8))\n",
    "[plot(alphas, list(map(dank,alphas)),color='k', alpha=.4) for k in range(10)];\n"
   ]
  },
  {
   "cell_type": "code",
   "execution_count": null,
   "id": "3f218b75-e576-496c-b833-e945aa1ead84",
   "metadata": {},
   "outputs": [],
   "source": [
    "e**(P|x),e**(P*x)"
   ]
  },
  {
   "cell_type": "code",
   "execution_count": null,
   "id": "3398e967-02a3-42aa-93f7-3a38297e58e5",
   "metadata": {},
   "outputs": [],
   "source": [
    "tau=1e-6\n",
    "sum([ 1/a*f(da(x,x,a,tau=tau)) for a in [d0,d1,d2,d3]]) "
   ]
  },
  {
   "cell_type": "code",
   "execution_count": null,
   "id": "8dc0938b-bf9e-421f-8f78-7be80f615213",
   "metadata": {},
   "outputs": [],
   "source": [
    "\n",
    "inP(dfpsi)/P, inP(P*fpsi(x))/P"
   ]
  },
  {
   "cell_type": "code",
   "execution_count": null,
   "id": "16c85d43-5bcc-4cc4-98e4-dd905eacc9b3",
   "metadata": {},
   "outputs": [],
   "source": []
  },
  {
   "cell_type": "code",
   "execution_count": null,
   "id": "864ba97e-69bd-47f4-942d-b4f955d99a27",
   "metadata": {},
   "outputs": [],
   "source": [
    "inP = lambda x: x[d012]*d012 + x[d123]*d123\n",
    "inP(dfpsi)/ inP(P*fpsi(x))"
   ]
  },
  {
   "cell_type": "code",
   "execution_count": null,
   "id": "10d5c5fc-b9bf-4dac-8422-9973b96e8da0",
   "metadata": {},
   "outputs": [],
   "source": [
    "y = P*fpsi(x)\n",
    "abs(y[d012]*d012 / y[d123]*d123)"
   ]
  },
  {
   "cell_type": "code",
   "execution_count": null,
   "id": "4ddd22ff-dbc0-4b7a-9911-c974a78b6ea8",
   "metadata": {},
   "outputs": [],
   "source": [
    "Vk"
   ]
  },
  {
   "cell_type": "code",
   "execution_count": null,
   "id": "c9c64345-875a-442a-876c-023e08d7cc5d",
   "metadata": {},
   "outputs": [],
   "source": [
    "d(f=fpsi(x),x=x) , P*fpsi(x)\n"
   ]
  },
  {
   "cell_type": "code",
   "execution_count": null,
   "id": "f878f6a7-b195-4358-ab93-b620bb92d8aa",
   "metadata": {},
   "outputs": [],
   "source": [
    "P*fpsi(x)"
   ]
  },
  {
   "cell_type": "code",
   "execution_count": null,
   "id": "7ee4146c-963d-454e-b7fb-f6824e39ade9",
   "metadata": {},
   "outputs": [],
   "source": []
  }
 ],
 "metadata": {
  "kernelspec": {
   "display_name": "Python 3",
   "language": "python",
   "name": "python3"
  },
  "language_info": {
   "codemirror_mode": {
    "name": "ipython",
    "version": 3
   },
   "file_extension": ".py",
   "mimetype": "text/x-python",
   "name": "python",
   "nbconvert_exporter": "python",
   "pygments_lexer": "ipython3",
   "version": "3.8.8"
  },
  "toc": {
   "nav_menu": {},
   "number_sections": true,
   "sideBar": true,
   "skip_h1_title": false,
   "toc_cell": false,
   "toc_position": {},
   "toc_section_display": "block",
   "toc_window_display": false
  }
 },
 "nbformat": 4,
 "nbformat_minor": 5
}
