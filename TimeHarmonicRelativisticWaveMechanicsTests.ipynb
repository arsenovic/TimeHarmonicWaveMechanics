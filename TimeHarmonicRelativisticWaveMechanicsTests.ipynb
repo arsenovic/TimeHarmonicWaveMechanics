{
 "cells": [
  {
   "cell_type": "code",
   "execution_count": null,
   "id": "378942a4",
   "metadata": {},
   "outputs": [],
   "source": [
    "\n",
    "from clifford.sta import * \n",
    "from pylab import * \n",
    "if True:\n",
    "    \n",
    "    thres= 1e-10\n",
    "    is_close= lambda x,y:abs(x-y)<thres\n",
    "    is_close_ish= lambda x,y:abs(x-y)<thres*1e4\n",
    "    split = lambda a,B: (a|B)/(a^B)\n",
    "    split_apart = lambda a,B: ((a|B)/B, (a^B)/B)\n",
    "    nudge = lambda a: a+1e-5 if a == 0 else a\n",
    "    \n",
    "    # constants not defined by model\n",
    "    m = rand()                   \n",
    "    q = rand()\n",
    "    hbar = rand()\n",
    "    \n",
    "    # basis elements in standard frame\n",
    "    S = d12\n",
    "    i = d123 \n",
    "    I = d0123\n",
    "    k = i*S\n",
    "    C = I*S\n",
    "    pis = pi*S  # == \\pi_S\n",
    "    \n",
    "    \n",
    "    ## note: since we dont have a nice way to write the dot notation \n",
    "    # we have set the differential (rdot) as rd ,  \n",
    "    #rd = d0 + .2*d1 + .84*d2 + .3*d3 # known differential\n",
    "    rd = D.randomV()            # random differential.\n",
    "    rd = rd(i) + abs(rd(i))*d0  # put it on the light cone\n",
    "    \n",
    "    \n",
    "    # differential components\n",
    "    rd0,rdk,rds = rd(d0),rd(k),rd(S)\n",
    "    rdsnot = rd-rds\n",
    "    rd0not = rd-rd0\n",
    "    \n",
    "    # velocity\n",
    "    Vs,Vk = rds/rd0 ,rdk/rd0\n",
    "    V = Vs + Vk\n",
    "    T = Vk/Vs\n",
    "    c= 1#abs(V)\n",
    "    \n",
    "    # linear momentum \n",
    "    ls,lk  = m*Vs,m*Vk  \n",
    "    l = ls+lk\n",
    "\n",
    "    # this is compton wavelength *1/gamma^2\n",
    "    rs = hbar/m*abs(Vs)* rds|S/abs(rds|S)  # position vector in S \n",
    "    \n",
    "    \n",
    "    # frequencies, angular momenta\n",
    "    theta = (rds/rs)\n",
    "    W = (rds/rs)/rd0\n",
    "    K = (rds/rdk)/rs\n",
    "    P = W + K\n",
    "    p,ps,pk = m*V,m*Vs, m*Vk\n",
    "    L = m*rs^Vs\n",
    "    E = m*V**2\n",
    "    \n",
    "    # wavelengths\n",
    "    lam   = -2*pi*S*V/W\n",
    "    lam_s = -2*pi*S*Vs/W\n",
    "    lam_k = -2*pi*S*Vk/W\n",
    "    \n",
    "    # currents\n",
    "    J  = q*V/lam\n",
    "    Js = q*Vs/lam_s\n",
    "    Jk = q*Vk/lam_k\n",
    "    \n",
    "    # lorentz factor and helix space pitch \n",
    "    Gamma = V*Vs.inv()         # spinor form \n",
    "    gamma = abs(Gamma)   # lorentz factor\n",
    "    phi = arctan(abs(Vk)/abs(Vs))\n",
    "    Le = gamma**2 *L\n",
    "    \n",
    "    # electrodynamics\n",
    "    M = Js*pis*rs**2\n",
    "    B = m/q*W\n",
    "    mu_ring = 4*pis*m*rs/q**2\n",
    "    Phi= B*pis*rs**2\n",
    "\n",
    "if True:\n",
    "    ################ TESTS ############################\n",
    "    \n",
    "    # Velocity and Differentials\n",
    "    assert(rd == rd0+rdk+rds == rds+rdsnot)\n",
    "    assert(-theta/(rd0*rdk)*(rd0+rdk) == P)      # P-r relation\n",
    "    assert(  -rs*P == (rds*rdsnot)/(rd0*rdk))    # P-r relation\n",
    "    assert(  Vs+Vk == rd0not/rd0)\n",
    "    \n",
    "    # Angular Momentum\n",
    "    assert(L == ps^rs == -m*rs**2*W == -m*Vs**2/W)\n",
    "    assert(isclose(abs(rs),abs(L/(m*Vs)))) # \n",
    "    assert(  rs**2 == - L/W/m)             # radius, as f(L,W,m)\n",
    "    assert(T==Vk/Vs == rdk/rds== 1/(K*rs))\n",
    "    assert(isclose(abs(T),tan(phi)))\n",
    "    assert(Gamma==1+T)\n",
    "     \n",
    "    # Wavelengths\n",
    "    assert(  lam == 2*pi*S*(rs+1/K))    # lamda = krds one  \n",
    "    assert(lam_s == 2*pi*S*rs== 2*pis*L/ps) # deBroglie\n",
    "    assert(lam_k == 2*pi*S*(1/K))\n",
    "    assert(isclose(abs(lam)**2 ,abs(lam_s)**2 +abs(lam_k)**2))\n",
    "    assert(lam==lam_s+lam_k)\n",
    "    \n",
    "    \n",
    "    # Currents \n",
    "    assert(Js == -Jk ==-q*W/(2*pis))\n",
    "    assert(isclose(abs(J),abs(Js)))\n",
    "    assert(isclose(abs(J),abs(Jk)))\n",
    "    assert(J==-q*W/(2*pis)*((1+T)/(1-T)))\n",
    "    assert(J==-q*W/(2*pis)*V/(-k*V*k))\n",
    "    assert(tan(phi)*(Vk/Vs)(2).normal() ==Vk/Vs)\n",
    "    \n",
    "    \n",
    "    # Lorentz factor \n",
    "    assert(V**2 == Vs**2 +Vk**2)\n",
    "    assert(Gamma==V*Vs.inv() == 1/(1-Vk*V.inv()))\n",
    "    assert(is_close(gamma,1/sqrt(1-abs(Vk**2/V**2))))\n",
    "    assert(is_close(gamma,1/cos(phi)))\n",
    "       \n",
    "    # Energy\n",
    "    assert(E == m*V**2 == -L*W + m*Vk**2) # energy momentum\n",
    "    assert(E ==-Le*W==-gamma**2*L*W)  \n",
    "    assert(m*Vs**2 == -L*W )    \n",
    "\n",
    "\n",
    "    # dirac equation \n",
    "    x    = D.randomV()\n",
    "    psi  = e**(P*x)\n",
    "    dpsi = P*psi\n",
    "    A    = E/(q*Vk) \n",
    "    \n",
    "    assert(Le == d0*abs(Le)*d12) # interpretation of Le as hbar \n",
    "    assert( dpsi== P*psi == (W+K)*psi == W*(1-1/Vk)*psi == -E/Le*(1-1/Vk)*psi) \n",
    "    assert(Le*dpsi -E/Vk*psi ==-E*psi ) \n",
    "    assert(1/c*Le*dpsi - q/c *E/(q*Vk)*psi == -m*c*psi)\n",
    "    assert(E/(q*Vk) == m*V/q *(1+Vs/Vk))\n",
    "    #assert(1/c*abs(Le)*d12*i*dpsi*i +q/c*E/(q*abs(Vk)*d3)*i*psi*i == m*c*psi*d0) #fix \n",
    "   # assert(1/c*hbar*d12*i*dpsi*i +q/c*E/(q*abs(Vk)*d3)*i*psi*i == m*c*psi*d0) # fix \n",
    "    \n",
    "    #not used \n",
    "    assert(1/c*Le*dpsi == -1/c*abs(Le)*d12*i*dpsi*i*d0 == d0/c*abs(Le)*d12*dpsi)\n",
    "    #assert(q/c *E/(q*Vk)*psi ==  q/c *E/(q*abs(Vk)*d3)*i*psi*i*d0== -d0*q/c *E/(q*abs(Vk)*d3)*psi )  #second part\n",
    "    \n",
    "    \n",
    "    \n",
    "    ## diracs original formula\n",
    "    dpsidt = W*psi\n",
    "    assert(dpsidt == -E/Le*psi )\n",
    "    assert(-Le*dpsidt == (-1/gamma**2*Le*W + Vk*pk)*psi)\n",
    "   # assert(Vk == -abs(V)*sqrt(1-1/gamma**2)*d3*d0) # dirac original\n",
    "    #assert(-d12*hbar*dpsidt== (d0/gamma**2*m*c**2 + (c*sqrt(1-1/gamma**2))*d3*pk)*psi)\n",
    "    \n",
    "if True:\n",
    "    # Magnetic moment \n",
    "    assert(M == -1/2*q*rs**2*W == q/(2*m)*L)\n",
    "    assert(M==2*q/(2*m)*L/2)\n",
    "    assert(L/M== 2*m/q)\n",
    "    \n",
    "    # Permeability\n",
    "    assert(q*Vs*B== -rs*m*W**2)\n",
    "    assert(B == mu_ring*q*W/(4*pis*rs))\n",
    "    assert(mu_ring == 4*pis*m*rs/q**2 ==4/q**2*pis*L/Vs)\n",
    "    \n",
    "    #Flux  quantum \n",
    "    assert(L*W==2*B*M==2*Js*Phi)\n",
    "    assert(Phi ==m/q*W*pis*rs**2==-pis*L/q)\n",
    "    \n",
    "    # Toroid\n",
    "    assert(E==-L*W*(1-T**2) == -L*W*gamma**2)\n",
    "    assert(-2*E/(Js**2*lam_k)==4*pis*m*rs/q**2*(T-1/T))\n",
    "    assert(4*pis*m*rs/q**2*T.inv()==-2*L*W/(Js**2*lam_k))\n",
    "    \n",
    "    \n",
    "    # Unfinished\n",
    "    ## symmetries\n",
    "    assert(-d0*P*d0 == -W + K) # T \n",
    "    assert(-i*P*i   == +W - K) # P?\n",
    "    assert(-I*P*I   == -W - K) # C?\n",
    "    assert(split(P*I,d0)== split(rdsnot,d0))\n",
    "\n",
    "    ## null basis trivectords\n",
    "    d0pkS = .5*(d0+d3)^S \n",
    "    d0mkS = .5*(d0-d3)^S\n",
    "    Pp = (abs(W)+abs(K))*d0pkS  # probably a slicker way to do this\n",
    "    Pm = (abs(W)-abs(K))*d0mkS\n",
    "    #assert(P == Pm+Pp)\n",
    "    \n",
    "\n",
    "## curvature and torsion -like quantity  \n",
    "# these are hard to translate because `rd` is null. \n",
    "rdd = 2*(S|rd)\n",
    "rddd = 2*(S|rdd)\n",
    "tau = rd^rdd^rddd\n",
    "Ohm = rd^rdd \n",
    "\n",
    "    \n",
    "    "
   ]
  },
  {
   "cell_type": "code",
   "execution_count": null,
   "id": "4d66ff4c-d25f-41f9-ae2f-ce9c2830fbee",
   "metadata": {},
   "outputs": [],
   "source": [
    "Ohm\n"
   ]
  },
  {
   "cell_type": "code",
   "execution_count": null,
   "id": "90c711cb-1a17-4c82-a95e-9c84783ebaa3",
   "metadata": {},
   "outputs": [],
   "source": [
    "(Ohm|V) + (Ohm^V)"
   ]
  },
  {
   "cell_type": "code",
   "execution_count": null,
   "id": "41252777-d3b2-451c-a551-94ecdd64a767",
   "metadata": {},
   "outputs": [],
   "source": [
    "#Differential properties of curve\n",
    "\n",
    " \n",
    "rdt = lambda t: e**(t*S)*rd*~e**(t*S)\n",
    "\n",
    "d(rdt,0)(0) ,2*(S|rdt(0))"
   ]
  },
  {
   "cell_type": "code",
   "execution_count": null,
   "id": "90ba73cc-04d5-43d8-8738-8908a37d69d2",
   "metadata": {},
   "outputs": [],
   "source": [
    "d(d(rdt,0),0)(0),rd"
   ]
  },
  {
   "cell_type": "code",
   "execution_count": null,
   "id": "031a7963-fea2-4233-97e8-00725115f3d1",
   "metadata": {},
   "outputs": [],
   "source": [
    "rd = D.randomV()            # random differential.\n",
    "rd = rd(i) + abs(rd(i))*d0  # put it on the light cone\n",
    "rdd = 2*(S|rd)\n",
    "\n",
    "assert(rd| rdd==0 )\n",
    "rddd = S|rdd\n",
    "Ohm = rd^rdd\n",
    "Pi = Ohm^rddd\n",
    "\n",
    "rd,rdd,Ohm,Pi\n",
    "split(Ohm,d0), split(rd,d0)\n",
    "Ohm"
   ]
  },
  {
   "cell_type": "code",
   "execution_count": null,
   "id": "d092250b-b540-4146-8c25-e5b3ededdd59",
   "metadata": {},
   "outputs": [],
   "source": [
    "split(Pi,d0)"
   ]
  },
  {
   "cell_type": "raw",
   "id": "54db5cce-2fcb-4fc3-b285-09d6c154467a",
   "metadata": {},
   "source": [
    "\n",
    "\n",
    "x = D.randomV()    \n",
    "T = D.randomMV().odd\n",
    "f = lambda x: e**(T*x)\n",
    "df = d(f,tau=1e-5)(x).clean(.001)\n",
    "df"
   ]
  },
  {
   "cell_type": "code",
   "execution_count": null,
   "id": "5bac21d5-c77f-432b-8883-4811a8f56971",
   "metadata": {},
   "outputs": [],
   "source": [
    "T"
   ]
  },
  {
   "cell_type": "code",
   "execution_count": null,
   "id": "654e7588-74ae-4cf4-8889-aea03970aff6",
   "metadata": {},
   "outputs": [],
   "source": [
    "from clifford.tools import log_rotor\n",
    "# lorentz invariance \n",
    "x = D.randomV()\n",
    "y = D.randomV()\n",
    "R = e**(log_rotor(x/y)) # need to do sqrt on this . \n",
    "R*x*~R,y"
   ]
  },
  {
   "cell_type": "code",
   "execution_count": null,
   "id": "05a0fd91-b0c2-4749-8bbe-8d99067ffbcd",
   "metadata": {},
   "outputs": [],
   "source": [
    "P_ = R.inv()*P*R\n",
    "e**(P*y) , e**(R*(P_*x)/R)\n"
   ]
  },
  {
   "cell_type": "code",
   "execution_count": null,
   "id": "54407fe5-7d29-4557-bbf3-5048c2c5aa4f",
   "metadata": {},
   "outputs": [],
   "source": [
    "P/d0*P*d0"
   ]
  },
  {
   "cell_type": "code",
   "execution_count": null,
   "id": "d7e57a9b-acc0-4382-983a-686d407dd8bd",
   "metadata": {},
   "outputs": [],
   "source": [
    "\n",
    "E,m*V**2,-Le*W,Le,W"
   ]
  },
  {
   "cell_type": "code",
   "execution_count": null,
   "id": "86acf87a-2687-4d8d-a128-96dc3e0bc3f5",
   "metadata": {},
   "outputs": [],
   "source": [
    "R = e**(rand()*I)\n",
    "(R*P/R)**2"
   ]
  },
  {
   "cell_type": "code",
   "execution_count": null,
   "id": "a6921cf5-dd17-4c0b-b053-7fc697539ad3",
   "metadata": {},
   "outputs": [],
   "source": [
    "psi= lambda x: e**(P*x)\n",
    "P|(D.randomV()(d03))\n",
    "P/I\n",
    "p"
   ]
  },
  {
   "cell_type": "code",
   "execution_count": null,
   "id": "93618cf3-5654-433f-b847-686a098aca24",
   "metadata": {},
   "outputs": [],
   "source": [
    "abs(P)"
   ]
  },
  {
   "cell_type": "code",
   "execution_count": null,
   "id": "81ca5583-be54-4b07-8aea-042884734ef8",
   "metadata": {},
   "outputs": [],
   "source": [
    "R*P/R"
   ]
  },
  {
   "cell_type": "code",
   "execution_count": null,
   "id": "9e7d1538-45e1-4385-b7ae-dd60e2a6f388",
   "metadata": {},
   "outputs": [],
   "source": [
    "\n",
    "R = D.randomRotor()\n",
    "assert(is_close(R*psi/R , e**((R*P/R)|( R*x/R))))\n",
    "psi_ = R*psi/R \n",
    "x_= R*x/R\n",
    "W_ = R*W/R\n",
    "K_ = R*K/R\n",
    "P_= W_+K_\n",
    "Vk_  = W_/K_\n",
    "psi_ , e**(P_|x_)"
   ]
  },
  {
   "cell_type": "code",
   "execution_count": null,
   "id": "3fa4d220-4b7c-49e5-893f-98560ebe4040",
   "metadata": {},
   "outputs": [],
   "source": [
    "Js,Jk,J"
   ]
  },
  {
   "cell_type": "code",
   "execution_count": null,
   "id": "f88123dc-a53d-4233-b4d8-99b0daf55b0b",
   "metadata": {},
   "outputs": [],
   "source": [
    "R=D.randomMV().even\n",
    "#R = e**(rand()*I)\n",
    "split(R*P/R,d0)*d0\n"
   ]
  },
  {
   "cell_type": "code",
   "execution_count": null,
   "id": "9af1fed1-428c-405f-88e5-e45b0eaa2aff",
   "metadata": {},
   "outputs": [],
   "source": [
    "x     = D.randomV()\n",
    "\n",
    "f= lambda x: e**(P^x)\n",
    "abs(d(f)(x)- -P*f(x)) "
   ]
  },
  {
   "cell_type": "code",
   "execution_count": null,
   "id": "56d1594d-d02b-4a79-bdcb-7e67ce5c2a94",
   "metadata": {},
   "outputs": [],
   "source": [
    "f= lambda x: e**(P|x)\n",
    "abs(d(f)(x)- P*f(x))"
   ]
  },
  {
   "cell_type": "code",
   "execution_count": null,
   "id": "07d9cc78-6c15-4a19-a72e-c2fb37cdf38a",
   "metadata": {},
   "outputs": [],
   "source": [
    "f= lambda x: e**(P*x)\n",
    "d(f)(x),P*f(x)"
   ]
  },
  {
   "cell_type": "code",
   "execution_count": null,
   "id": "97b2f59d-17a1-44cc-8928-62a257efa0c4",
   "metadata": {},
   "outputs": [],
   "source": [
    "Vk"
   ]
  },
  {
   "cell_type": "code",
   "execution_count": null,
   "id": "d6df6971-e6be-4408-bf22-5b5f6634d2d6",
   "metadata": {},
   "outputs": [],
   "source": [
    "psi= lambda x: e**(P|x)\n",
    "psi(4*(d3))\n",
    "\n"
   ]
  },
  {
   "cell_type": "code",
   "execution_count": null,
   "id": "8f43166f-c5b9-4458-a44c-2b205e7ec061",
   "metadata": {},
   "outputs": [],
   "source": [
    "x     = D.randomV()\n",
    "kw    = tau=1e-6\n",
    "f     = lambda x: e**(P^x)\n",
    "abs(d(f)(x)- (-P*f(x)))\n"
   ]
  },
  {
   "cell_type": "code",
   "execution_count": null,
   "id": "fe176e60-b31e-4bca-a63e-43638185a6a5",
   "metadata": {},
   "outputs": [],
   "source": [
    "x = D.randomV()\n",
    "abs(d(lambda x:x)(x)-4)"
   ]
  },
  {
   "cell_type": "code",
   "execution_count": null,
   "id": "af35c5a4-cb7f-4f2f-96ca-bb91e1e64b27",
   "metadata": {},
   "outputs": [],
   "source": [
    "P"
   ]
  },
  {
   "cell_type": "code",
   "execution_count": null,
   "id": "6e9f7d97-b3ac-4e5f-8e53-df7f59f7b735",
   "metadata": {},
   "outputs": [],
   "source": [
    "x = v()\n",
    "f=lambda x: e**(P|x) \n",
    "d(f,1e-5)(x).clean(.001), P*f(x)\n"
   ]
  },
  {
   "cell_type": "code",
   "execution_count": null,
   "id": "47cac209-35f0-406b-87a8-5caa1c11b9d4",
   "metadata": {},
   "outputs": [],
   "source": [
    "f=lambda x: e**(-P^x) \n",
    "d(f,1e-5)(x), P*f(x)"
   ]
  },
  {
   "cell_type": "code",
   "execution_count": null,
   "id": "5b830893-f877-4bd6-aca7-ba1059c0c834",
   "metadata": {},
   "outputs": [],
   "source": [
    "f(x)"
   ]
  },
  {
   "cell_type": "code",
   "execution_count": null,
   "id": "63a4effd-eed8-4c9a-abfc-cb73bbca17e9",
   "metadata": {},
   "outputs": [],
   "source": [
    " \n",
    "v = D.randomV\n",
    "kw    = tau=1e-8\n",
    "\n",
    "psis = dict(psi_o = lambda x: e**(P^x),\n",
    "            psi_i = lambda x: e**(P|x),\n",
    "            psi_g = lambda x: e**(P*x))\n",
    "\n",
    "\n",
    "figure(figsize=(10,4))\n",
    "alphas = np.linspace(.010,20000,300)\n",
    "for k in psis:\n",
    "    psi = psis[k]\n",
    "    dpsi = d(psi, tau=tau)\n",
    "    x= v()\n",
    "    plot(alphas, [abs(dpsi(alpha*x)+(P*psi(alpha*x))) for alpha in alphas],label=k+'+')\n",
    "    plot(alphas, [abs(dpsi(alpha*x)-(P*psi(alpha*x))) for alpha in alphas],label=k+'-')\n",
    "\n",
    "axvline(abs(rs),color='k')\n",
    "legend()\n",
    "tight_layout()\n",
    "semilogy()"
   ]
  },
  {
   "cell_type": "code",
   "execution_count": null,
   "id": "e728b37f-90ad-4312-be28-6a02849e1a6b",
   "metadata": {},
   "outputs": [],
   "source": [
    "p=I*P\n",
    "I.inv()*p == P\n",
    "p^x"
   ]
  },
  {
   "cell_type": "markdown",
   "id": "65443763-8795-4fe8-8bab-703425354ce0",
   "metadata": {},
   "source": [
    "\n",
    "### Stability of Dervative arou\n",
    "nd small `x` "
   ]
  },
  {
   "cell_type": "code",
   "execution_count": null,
   "id": "26605a20-e2b8-45cf-973f-c9b9ff0d3555",
   "metadata": {},
   "outputs": [],
   "source": [
    "def dank(alpha):\n",
    "    x = D.randomV()*alpha\n",
    "    f = lambda x:e**(P*x)\n",
    "    df= d(f=f,x=x,tau=1e-5).clean(1e-4)\n",
    "    return abs(df -P*f(x)) \n",
    "alphas = np.linspace(0,20,200)\n",
    "figure(figsize=(10,8))\n",
    "[plot(alphas, list(map(dank,alphas)),color='k', alpha=.4) for k in range(10)];\n"
   ]
  },
  {
   "cell_type": "code",
   "execution_count": null,
   "id": "3f218b75-e576-496c-b833-e945aa1ead84",
   "metadata": {},
   "outputs": [],
   "source": [
    "e**(P|x),e**(P*x)"
   ]
  },
  {
   "cell_type": "code",
   "execution_count": null,
   "id": "3398e967-02a3-42aa-93f7-3a38297e58e5",
   "metadata": {},
   "outputs": [],
   "source": [
    "tau=1e-6\n",
    "sum([ 1/a*f(da(x,x,a,tau=tau)) for a in [d0,d1,d2,d3]]) "
   ]
  },
  {
   "cell_type": "code",
   "execution_count": null,
   "id": "8dc0938b-bf9e-421f-8f78-7be80f615213",
   "metadata": {},
   "outputs": [],
   "source": [
    "\n",
    "inP(dfpsi)/P, inP(P*fpsi(x))/P"
   ]
  },
  {
   "cell_type": "code",
   "execution_count": null,
   "id": "16c85d43-5bcc-4cc4-98e4-dd905eacc9b3",
   "metadata": {},
   "outputs": [],
   "source": []
  },
  {
   "cell_type": "code",
   "execution_count": null,
   "id": "864ba97e-69bd-47f4-942d-b4f955d99a27",
   "metadata": {},
   "outputs": [],
   "source": [
    "inP = lambda x: x[d012]*d012 + x[d123]*d123\n",
    "inP(dfpsi)/ inP(P*fpsi(x))"
   ]
  },
  {
   "cell_type": "code",
   "execution_count": null,
   "id": "10d5c5fc-b9bf-4dac-8422-9973b96e8da0",
   "metadata": {},
   "outputs": [],
   "source": [
    "y = P*fpsi(x)\n",
    "abs(y[d012]*d012 / y[d123]*d123)"
   ]
  },
  {
   "cell_type": "code",
   "execution_count": null,
   "id": "4ddd22ff-dbc0-4b7a-9911-c974a78b6ea8",
   "metadata": {},
   "outputs": [],
   "source": [
    "Vk"
   ]
  },
  {
   "cell_type": "code",
   "execution_count": null,
   "id": "c9c64345-875a-442a-876c-023e08d7cc5d",
   "metadata": {},
   "outputs": [],
   "source": [
    "d(f=fpsi(x),x=x) , P*fpsi(x)\n"
   ]
  },
  {
   "cell_type": "code",
   "execution_count": null,
   "id": "f878f6a7-b195-4358-ab93-b620bb92d8aa",
   "metadata": {},
   "outputs": [],
   "source": [
    "P*fpsi(x)"
   ]
  },
  {
   "cell_type": "code",
   "execution_count": null,
   "id": "7ee4146c-963d-454e-b7fb-f6824e39ade9",
   "metadata": {},
   "outputs": [],
   "source": []
  }
 ],
 "metadata": {
  "kernelspec": {
   "display_name": "Python 3",
   "language": "python",
   "name": "python3"
  },
  "language_info": {
   "codemirror_mode": {
    "name": "ipython",
    "version": 3
   },
   "file_extension": ".py",
   "mimetype": "text/x-python",
   "name": "python",
   "nbconvert_exporter": "python",
   "pygments_lexer": "ipython3",
   "version": "3.8.8"
  },
  "toc": {
   "nav_menu": {},
   "number_sections": true,
   "sideBar": true,
   "skip_h1_title": false,
   "toc_cell": false,
   "toc_position": {},
   "toc_section_display": "block",
   "toc_window_display": false
  }
 },
 "nbformat": 4,
 "nbformat_minor": 5
}
